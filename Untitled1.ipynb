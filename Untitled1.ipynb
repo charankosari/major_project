{
 "cells": [
  {
   "cell_type": "code",
   "execution_count": 1,
   "id": "cb3f58aa",
   "metadata": {},
   "outputs": [],
   "source": [
    "import pyttsx3\n",
    "import tkinter as tk\n",
    "\n",
    "\n",
    "def text_to_speech():\n",
    "    text = text_entry.get(\"1.0\", \"end-1c\")\n",
    "    voice_id = voice_var.get()\n",
    "\n",
    "\n",
    "    engine = pyttsx3.init()\n",
    "\n",
    "\n",
    "    voices = engine.getProperty('voices')\n",
    "\n",
    "\n",
    "    if voice_id is not None:\n",
    "        engine.setProperty('voice', voices[voice_id].id)\n",
    "\n",
    "    # Convert the text to speech\n",
    "    engine.say(text)\n",
    "\n",
    "    # Wait for the speech to finish\n",
    "    engine.runAndWait()\n",
    "\n",
    "\n",
    "\n",
    "root = tk.Tk()\n",
    "root.title(\"Text-to-Speech\")\n",
    "\n",
    "\n",
    "text_entry = tk.Text(root, height=10, width=40)\n",
    "text_entry.pack(pady=10)\n",
    "\n",
    "\n",
    "voice_var = tk.IntVar()\n",
    "voices = pyttsx3.init().getProperty('voices')\n",
    "voice_var.set(0)\n",
    "voice_dropdown = tk.OptionMenu(root, voice_var, *[i for i in range(len(voices))])\n",
    "voice_dropdown.pack()\n",
    "\n",
    "\n",
    "speak_button = tk.Button(root, text=\"Speak\", command=text_to_speech)\n",
    "speak_button.pack(pady=10)\n",
    "\n",
    "\n",
    "root.mainloop()"
   ]
  },
  {
   "cell_type": "code",
   "execution_count": 2,
   "id": "b764f4c7",
   "metadata": {},
   "outputs": [
    {
     "name": "stdout",
     "output_type": "stream",
     "text": [
      "Collecting pyttsx3\n",
      "  Downloading pyttsx3-2.98-py3-none-any.whl.metadata (3.8 kB)\n",
      "Collecting comtypes (from pyttsx3)\n",
      "  Downloading comtypes-1.4.8-py3-none-any.whl.metadata (7.1 kB)\n",
      "Collecting pypiwin32 (from pyttsx3)\n",
      "  Downloading pypiwin32-223-py3-none-any.whl.metadata (236 bytes)\n",
      "Requirement already satisfied: pywin32 in c:\\users\\charan kosari\\appdata\\local\\programs\\python\\python313\\lib\\site-packages (from pyttsx3) (308)\n",
      "Downloading pyttsx3-2.98-py3-none-any.whl (34 kB)\n",
      "Downloading comtypes-1.4.8-py3-none-any.whl (229 kB)\n",
      "Downloading pypiwin32-223-py3-none-any.whl (1.7 kB)\n",
      "Installing collected packages: pypiwin32, comtypes, pyttsx3\n",
      "Successfully installed comtypes-1.4.8 pypiwin32-223 pyttsx3-2.98\n",
      "Note: you may need to restart the kernel to use updated packages.\n"
     ]
    }
   ],
   "source": []
  },
  {
   "cell_type": "code",
   "execution_count": null,
   "id": "fbb3d61d",
   "metadata": {},
   "outputs": [],
   "source": []
  },
  {
   "cell_type": "code",
   "execution_count": null,
   "id": "a0f69b70",
   "metadata": {},
   "outputs": [],
   "source": []
  }
 ],
 "metadata": {
  "kernelspec": {
   "display_name": "Python 3",
   "language": "python",
   "name": "python3"
  },
  "language_info": {
   "codemirror_mode": {
    "name": "ipython",
    "version": 3
   },
   "file_extension": ".py",
   "mimetype": "text/x-python",
   "name": "python",
   "nbconvert_exporter": "python",
   "pygments_lexer": "ipython3",
   "version": "3.9.6"
  }
 },
 "nbformat": 4,
 "nbformat_minor": 5
}
